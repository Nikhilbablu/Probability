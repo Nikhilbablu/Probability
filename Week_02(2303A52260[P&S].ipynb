{
  "nbformat": 4,
  "nbformat_minor": 0,
  "metadata": {
    "colab": {
      "provenance": [],
      "authorship_tag": "ABX9TyPPcR8Pz7TDYdcp2jEm5AF6",
      "include_colab_link": true
    },
    "kernelspec": {
      "name": "python3",
      "display_name": "Python 3"
    },
    "language_info": {
      "name": "python"
    }
  },
  "cells": [
    {
      "cell_type": "markdown",
      "metadata": {
        "id": "view-in-github",
        "colab_type": "text"
      },
      "source": [
        "<a href=\"https://colab.research.google.com/github/Nikhilbablu/Probability/blob/main/Week_02(2303A52260%5BP%26S%5D.ipynb\" target=\"_parent\"><img src=\"https://colab.research.google.com/assets/colab-badge.svg\" alt=\"Open In Colab\"/></a>"
      ]
    },
    {
      "cell_type": "markdown",
      "source": [
        "Q-1: mean frequency ages"
      ],
      "metadata": {
        "id": "EkmMz9-WjC6K"
      }
    },
    {
      "cell_type": "code",
      "execution_count": null,
      "metadata": {
        "colab": {
          "base_uri": "https://localhost:8080/"
        },
        "id": "J1vV1p2dSzJw",
        "outputId": "24a5f3b7-cd35-4d6a-f3ee-fc81d434ec73"
      },
      "outputs": [
        {
          "output_type": "stream",
          "name": "stdout",
          "text": [
            "15.777777777777779\n"
          ]
        }
      ],
      "source": [
        "age=[11,12,13,17,18,21]\n",
        "frequencies=[1,3,7,9,4,3]\n",
        "sum_fx=sum(f*x for f,x in zip(frequencies,age))\n",
        "sum_f=sum(frequencies)\n",
        "mean=sum_fx/sum_f\n",
        "print(mean)"
      ]
    },
    {
      "cell_type": "markdown",
      "source": [
        "Q2:Mean of the class interval frequency distrubution"
      ],
      "metadata": {
        "id": "5x2eiVEekEqZ"
      }
    },
    {
      "cell_type": "code",
      "source": [
        "classintervals=[(0,10),(10,20),(20,30),(30,40),(40,50),(50,60)]\n",
        "frequencies=[2,3,4,1,2,6]\n",
        "midpoints=[(start+end)/2 for start,end in classintervals]\n",
        "mean=sum(f*x for f,x in zip(frequencies,midpoints))/sum(frequencies)\n",
        "print(mean)"
      ],
      "metadata": {
        "colab": {
          "base_uri": "https://localhost:8080/"
        },
        "id": "NO8ajp76jMwR",
        "outputId": "bf3943b8-bd0a-4ae9-a6db-fe0d17c08ef7"
      },
      "execution_count": null,
      "outputs": [
        {
          "output_type": "stream",
          "name": "stdout",
          "text": [
            "33.888888888888886\n"
          ]
        }
      ]
    },
    {
      "cell_type": "markdown",
      "source": [
        "Q3: variance"
      ],
      "metadata": {
        "id": "NJJ1djdsmWmx"
      }
    },
    {
      "cell_type": "code",
      "source": [
        "def calculate_variance(data):\n",
        "    mean=sum(data)/len(data)\n",
        "    variance=sum((x-mean)**2 for x in data)/len(data)\n",
        "    return variance\n",
        "data=[10,12,15,25,14,23,31,26]\n",
        "variance=calculate_variance(data)\n",
        "print(variance)"
      ],
      "metadata": {
        "colab": {
          "base_uri": "https://localhost:8080/"
        },
        "id": "qOJCjZYXk0dS",
        "outputId": "09f5874c-5f70-4fba-8b94-9fe2644c03c7"
      },
      "execution_count": null,
      "outputs": [
        {
          "output_type": "stream",
          "name": "stdout",
          "text": [
            "51.75\n"
          ]
        }
      ]
    },
    {
      "cell_type": "code",
      "source": [],
      "metadata": {
        "id": "sH430hU1mv2Q"
      },
      "execution_count": null,
      "outputs": []
    }
  ]
}