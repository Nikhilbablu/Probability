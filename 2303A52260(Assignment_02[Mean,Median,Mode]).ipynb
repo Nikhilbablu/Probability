{
  "nbformat": 4,
  "nbformat_minor": 0,
  "metadata": {
    "colab": {
      "provenance": [],
      "authorship_tag": "ABX9TyPxD78fix8wP2+IFA7bwWm2",
      "include_colab_link": true
    },
    "kernelspec": {
      "name": "python3",
      "display_name": "Python 3"
    },
    "language_info": {
      "name": "python"
    }
  },
  "cells": [
    {
      "cell_type": "markdown",
      "metadata": {
        "id": "view-in-github",
        "colab_type": "text"
      },
      "source": [
        "<a href=\"https://colab.research.google.com/github/Nikhilbablu/Probability/blob/main/2303A52260(Assignment_02%5BMean%2CMedian%2CMode%5D).ipynb\" target=\"_parent\"><img src=\"https://colab.research.google.com/assets/colab-badge.svg\" alt=\"Open In Colab\"/></a>"
      ]
    },
    {
      "cell_type": "markdown",
      "source": [
        "Assignment-02:\n",
        "Calculation of Mean Using NumPy and Pandas"
      ],
      "metadata": {
        "id": "rKGLspIweI03"
      }
    },
    {
      "cell_type": "markdown",
      "source": [
        "Q-01:Ungrouped Data"
      ],
      "metadata": {
        "id": "1KhHQKOoeXiu"
      }
    },
    {
      "cell_type": "code",
      "execution_count": 4,
      "metadata": {
        "id": "50jD2n48lxcp",
        "colab": {
          "base_uri": "https://localhost:8080/"
        },
        "outputId": "f9fbac07-dfc6-4b6f-aa2d-7fa0655c5a39"
      },
      "outputs": [
        {
          "output_type": "stream",
          "name": "stdout",
          "text": [
            "Median: 56.0\n",
            "Mean: 54.744680851063826\n",
            "Mode: ModeResult(mode=45, count=17)\n"
          ]
        }
      ],
      "source": [
        "import numpy as np\n",
        "import pandas as pd\n",
        "from scipy import stats\n",
        "data=[45,67,89,23,45,67,89,34,56,78,90,21,45,67,89,23,45,\n",
        " 56,78,34,23,45,67,89,45,67,89,12,34,56,78,90,23,45,\n",
        " 67,12,34,78,45,67,89,34,56,78,90,23,56,78,89,45,12,\n",
        " 67,45,78,23,45,67,89,34,45,23,78,67,89,45,67,89,12,\n",
        " 34,56,78,90,23,12,34,56,78,23,45,67,89,34,45,23,45,\n",
        " 67,89,12,34,56,78,90,45,23]\n",
        "median=np.median(data)\n",
        "mean=np.mean(data)\n",
        "mode=stats.mode(data)\n",
        "print(\"Median:\",median)\n",
        "print(\"Mean:\",mean)\n",
        "print(\"Mode:\",mode)"
      ]
    },
    {
      "cell_type": "markdown",
      "source": [
        "Q-02:Grouped Data"
      ],
      "metadata": {
        "id": "B48vnoNKkKOd"
      }
    },
    {
      "cell_type": "code",
      "source": [
        "scores=[10,20,30,40,50,60,70,80,90,100]\n",
        "frequency=[200,350,400,300,250,200,150,80,50,20]\n",
        "df=pd.DataFrame({'scores':scores,'frequency':frequency})\n",
        "df['cumulative_frequency']=df['frequency'].cumsum()\n",
        "n=df['frequency'].sum()\n",
        "median_pos=n/2\n",
        "median_class_index=df[df['cumulative_frequency']>=median_pos].index[0]\n",
        "median_score=df.loc[median_class_index,'scores']\n",
        "print(\"Median:\",median_score)\n",
        "mode_scores=df[df['frequency']==df['frequency'].max()]['scores'].tolist()\n",
        "print(\"Mode:\",mode_scores)\n"
      ],
      "metadata": {
        "colab": {
          "base_uri": "https://localhost:8080/"
        },
        "id": "Ue7gODoKfQTf",
        "outputId": "87f8aa1c-ba00-49fb-fe7f-0362c15c4930"
      },
      "execution_count": 5,
      "outputs": [
        {
          "output_type": "stream",
          "name": "stdout",
          "text": [
            "Median: 40\n",
            "Mode: [30]\n"
          ]
        }
      ]
    },
    {
      "cell_type": "markdown",
      "source": [
        "Q-03:Grouped data with class intervals"
      ],
      "metadata": {
        "id": "V1s7Ma5oo5wi"
      }
    },
    {
      "cell_type": "code",
      "source": [
        "class_intervals=[(0,20),(20,40),(40,60),(60,80),(80,100),(100,120),(120,140)]\n",
        "class_frequencies=[50,120,200,300,220,70,40]\n",
        "df=pd.DataFrame({'class_intervals':class_intervals,'class_frequencies':class_frequencies})\n",
        "df['cumulative_frequency']=df['class_frequencies'].cumsum()\n",
        "n=df['class_frequencies'].sum()\n",
        "median_pos=n/2\n",
        "median_class_index=df[df['cumulative_frequency']>=median_pos].index[0]\n",
        "median_class=df.loc[median_class_index,'class_intervals']\n",
        "median_score=(median_class[0]+median_class[1])/2\n",
        "print(\"Median:\",median_score)\n",
        "mode_class_index=df[df['class_frequencies']==df['class_frequencies'].max()].index[0]\n",
        "mode_class=df.loc[mode_class_index,'class_intervals']\n",
        "mode_score=(mode_class[0]+mode_class[1])/2\n",
        "print(\"Mode:\",mode_score)\n"
      ],
      "metadata": {
        "colab": {
          "base_uri": "https://localhost:8080/"
        },
        "id": "hIKbursSobP8",
        "outputId": "4cc1230e-37d8-4c41-8541-8171daebfde2"
      },
      "execution_count": 7,
      "outputs": [
        {
          "output_type": "stream",
          "name": "stdout",
          "text": [
            "Median: 70.0\n",
            "Mode: 70.0\n"
          ]
        }
      ]
    }
  ]
}